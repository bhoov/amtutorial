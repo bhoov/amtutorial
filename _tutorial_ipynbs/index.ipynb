{
 "cells": [
  {
   "cell_type": "markdown",
   "metadata": {},
   "source": [
    "# Index for tutorial\n",
    "\n",
    "A collection of example notebooks for AM."
   ]
  }
 ],
 "metadata": {
  "kernelspec": {
   "display_name": "Python 3",
   "language": "python",
   "name": "python3"
  },
  "language_info": {
   "name": "python"
  },
  "path": "nbs/tutorial/index.qmd"
 },
 "nbformat": 4,
 "nbformat_minor": 5
}
