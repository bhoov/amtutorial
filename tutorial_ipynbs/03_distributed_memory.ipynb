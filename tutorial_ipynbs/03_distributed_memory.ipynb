{
 "cells": [
  {
   "cell_type": "markdown",
   "metadata": {},
   "source": [
    "# Distributed Memory\n",
    "> Random Features enable Dense Associative Memory to store patterns in a distributed manner across a large number of neurons.\n",
    "\n",
    ":::{.callout-warning}\n",
    "## Under Construction\n",
    ":::"
   ]
  }
 ],
 "metadata": {
  "kernelspec": {
   "display_name": "Python 3",
   "language": "python",
   "name": "python3"
  },
  "language_info": {
   "name": "python"
  },
  "path": "nbs/tutorial/03_distributed_memory.qmd"
 },
 "nbformat": 4,
 "nbformat_minor": 5
}
